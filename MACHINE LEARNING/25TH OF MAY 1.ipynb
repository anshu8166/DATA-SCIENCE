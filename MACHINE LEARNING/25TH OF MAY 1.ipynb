{
 "cells": [
  {
   "cell_type": "code",
   "execution_count": 3,
   "id": "ed1720aa-3ba4-4b07-a512-77a2a8b98550",
   "metadata": {},
   "outputs": [
    {
     "name": "stdout",
     "output_type": "stream",
     "text": [
      " hello world \n"
     ]
    }
   ],
   "source": [
    "print (\" hello world \")"
   ]
  },
  {
   "cell_type": "code",
   "execution_count": 4,
   "id": "921962e2-9891-4ef4-9a4f-68fa3c7b5225",
   "metadata": {},
   "outputs": [
    {
     "name": "stdout",
     "output_type": "stream",
     "text": [
      " My Name is Anshu Kumar Tiwari \n"
     ]
    }
   ],
   "source": [
    "print (\" My Name is Anshu Kumar Tiwari \")"
   ]
  },
  {
   "cell_type": "code",
   "execution_count": 6,
   "id": "b8585c04-1fce-45b8-874d-72d0a623f4cd",
   "metadata": {},
   "outputs": [
    {
     "data": {
      "text/plain": [
       "50"
      ]
     },
     "execution_count": 6,
     "metadata": {},
     "output_type": "execute_result"
    }
   ],
   "source": [
    "24+26"
   ]
  },
  {
   "cell_type": "code",
   "execution_count": 7,
   "id": "931310b3-38bc-4cb6-a3d2-a3aa7ff81ed7",
   "metadata": {},
   "outputs": [
    {
     "data": {
      "text/plain": [
       "0"
      ]
     },
     "execution_count": 7,
     "metadata": {},
     "output_type": "execute_result"
    }
   ],
   "source": [
    "25-25"
   ]
  },
  {
   "cell_type": "code",
   "execution_count": null,
   "id": "0718bc15-ac4f-468e-82ca-16cc7d60d68b",
   "metadata": {},
   "outputs": [],
   "source": []
  },
  {
   "cell_type": "code",
   "execution_count": 8,
   "id": "9ca8b0e8-a22b-4195-a587-7a3b80b1fbfe",
   "metadata": {},
   "outputs": [
    {
     "data": {
      "text/plain": [
       "0.29411764705882354"
      ]
     },
     "execution_count": 8,
     "metadata": {},
     "output_type": "execute_result"
    }
   ],
   "source": [
    "25/85"
   ]
  },
  {
   "cell_type": "code",
   "execution_count": 10,
   "id": "c8339c85-02b0-4821-b96e-c9f3389efc2a",
   "metadata": {},
   "outputs": [
    {
     "name": "stdout",
     "output_type": "stream",
     "text": [
      " My Name is Anshu Kumar Tiwari \n"
     ]
    }
   ],
   "source": [
    "print (\" My Name is Anshu Kumar Tiwari \")"
   ]
  },
  {
   "cell_type": "code",
   "execution_count": 11,
   "id": "a46aef6b-bd53-442f-b54d-93fd2bb589b5",
   "metadata": {},
   "outputs": [
    {
     "name": "stdout",
     "output_type": "stream",
     "text": [
      "120\n"
     ]
    }
   ],
   "source": [
    "x= 24*5\n",
    "print(x)"
   ]
  },
  {
   "cell_type": "markdown",
   "id": "9eba635d-994a-4c50-acd3-6c2aa35fd683",
   "metadata": {},
   "source": [
    "TO RUN AND EXECUTE CELL- shift + enter \n",
    "to add the cell above the current cell - ESC +A\n",
    "to add the cell Below the current cell- ESC+ B \n",
    "to delete the cell - ESC +D+D \n"
   ]
  },
  {
   "cell_type": "code",
   "execution_count": null,
   "id": "277da1ab-d801-42f5-b98f-1205f3049d08",
   "metadata": {},
   "outputs": [],
   "source": []
  }
 ],
 "metadata": {
  "kernelspec": {
   "display_name": "Python 3 (ipykernel)",
   "language": "python",
   "name": "python3"
  },
  "language_info": {
   "codemirror_mode": {
    "name": "ipython",
    "version": 3
   },
   "file_extension": ".py",
   "mimetype": "text/x-python",
   "name": "python",
   "nbconvert_exporter": "python",
   "pygments_lexer": "ipython3",
   "version": "3.11.7"
  }
 },
 "nbformat": 4,
 "nbformat_minor": 5
}
